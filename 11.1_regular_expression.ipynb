{
 "cells": [
  {
   "cell_type": "code",
   "execution_count": 1,
   "metadata": {},
   "outputs": [
    {
     "name": "stdout",
     "output_type": "stream",
     "text": [
      "From: Hello, I am Mathews. \n",
      "To: Hi, I am Angela.\n",
      "From: How Are You.\n"
     ]
    }
   ],
   "source": [
    "with open(\"11.1_test.txt\") as myfile:\n",
    "    content = myfile.read()\n",
    "print(content)"
   ]
  },
  {
   "cell_type": "code",
   "execution_count": 4,
   "metadata": {},
   "outputs": [
    {
     "name": "stdout",
     "output_type": "stream",
     "text": [
      "From: Hello, I am Mathews.\n",
      "From: How Are You.\n"
     ]
    }
   ],
   "source": [
    "hand = open(\"11.1_test.txt\")\n",
    "for line in hand:\n",
    "    line = line.rstrip()\n",
    "    if line.startswith(\"From:\"):\n",
    "        print(line) "
   ]
  },
  {
   "cell_type": "code",
   "execution_count": 5,
   "metadata": {},
   "outputs": [
    {
     "name": "stdout",
     "output_type": "stream",
     "text": [
      "From: Hello, I am Mathews.\n",
      "From: How Are You.\n"
     ]
    }
   ],
   "source": [
    "hand = open(\"11.1_test.txt\")\n",
    "for line in hand:\n",
    "    line = line.rstrip()\n",
    "    if line.find(\"From:\") >= 0:\n",
    "        print(line) "
   ]
  },
  {
   "cell_type": "code",
   "execution_count": 6,
   "metadata": {},
   "outputs": [
    {
     "name": "stdout",
     "output_type": "stream",
     "text": [
      "From: Hello, I am Mathews.\n",
      "From: How Are You.\n"
     ]
    }
   ],
   "source": [
    "import re\n",
    "hand  = open(\"11.1_test.txt\")\n",
    "for line in hand:\n",
    "    line = line.rstrip()\n",
    "    if re.search(\"^From:\", line):\n",
    "        print(line)"
   ]
  },
  {
   "cell_type": "code",
   "execution_count": 20,
   "metadata": {},
   "outputs": [
    {
     "name": "stdout",
     "output_type": "stream",
     "text": [
      "X-Sieve: CMU Sieve 2.3\n",
      "X-DSPAM-Result: Innocent\n",
      "X-Plane is behind schedule: two weeks\n"
     ]
    }
   ],
   "source": [
    "import re\n",
    "hand  = open(\"11.1.1_test.txt\")\n",
    "for line in hand:\n",
    "    line = line.rstrip()\n",
    "    if re.search(\"^X.*\", line):\n",
    "        print(line)"
   ]
  },
  {
   "cell_type": "code",
   "execution_count": 19,
   "metadata": {},
   "outputs": [
    {
     "name": "stdout",
     "output_type": "stream",
     "text": [
      "X-Sieve: CMU Sieve 2.3\n",
      "X-DSPAM-Result: Innocent\n"
     ]
    }
   ],
   "source": [
    "import re\n",
    "hand  = open(\"11.1.1_test.txt\")\n",
    "for line in hand:\n",
    "    line = line.rstrip()\n",
    "    if re.search(\"^X-\\S+:\", line):\n",
    "        print(line)"
   ]
  },
  {
   "cell_type": "code",
   "execution_count": null,
   "metadata": {},
   "outputs": [],
   "source": []
  }
 ],
 "metadata": {
  "kernelspec": {
   "display_name": "Python 3",
   "language": "python",
   "name": "python3"
  },
  "language_info": {
   "codemirror_mode": {
    "name": "ipython",
    "version": 3
   },
   "file_extension": ".py",
   "mimetype": "text/x-python",
   "name": "python",
   "nbconvert_exporter": "python",
   "pygments_lexer": "ipython3",
   "version": "3.8.2"
  }
 },
 "nbformat": 4,
 "nbformat_minor": 4
}
