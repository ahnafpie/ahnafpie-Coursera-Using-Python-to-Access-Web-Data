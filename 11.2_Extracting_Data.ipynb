{
 "cells": [
  {
   "cell_type": "code",
   "execution_count": 5,
   "metadata": {},
   "outputs": [
    {
     "name": "stdout",
     "output_type": "stream",
     "text": [
      "['2', '23', '29']\n",
      "[]\n"
     ]
    }
   ],
   "source": [
    "#re.findall()\n",
    "# If we actually want the matching string to be extracted, we use re.findall()\n",
    "# [0-9]+ ; bracket zero dash nine bracket is a single digit. But then, we added a plus to it and that says one or more digits.\n",
    "import re\n",
    "x = \"My 2 fav numbers are 23 and 29\"\n",
    "y = re.findall(\"[0-9]+\", x)\n",
    "print(y)\n",
    "y = re.findall(\"[AEIOU]+\", x)\n",
    "print(y)"
   ]
  },
  {
   "cell_type": "code",
   "execution_count": 10,
   "metadata": {},
   "outputs": [
    {
     "name": "stdout",
     "output_type": "stream",
     "text": [
      "['From: Using the:']\n"
     ]
    }
   ],
   "source": [
    "# Greedy Matching : Greedy prefers the longest\n",
    "import re\n",
    "x = 'From: Using the: character'\n",
    "y = re.findall('^F.+:', x)\n",
    "print(y)"
   ]
  },
  {
   "cell_type": "code",
   "execution_count": 12,
   "metadata": {},
   "outputs": [
    {
     "name": "stdout",
     "output_type": "stream",
     "text": [
      "['From:']\n"
     ]
    }
   ],
   "source": [
    "# Non-greedy Matching: Non-greedy matching prefers the shortest\n",
    "import re\n",
    "x = 'From: Using the: character'\n",
    "y = re.findall('^F.+?:', x)\n",
    "print(y)"
   ]
  },
  {
   "cell_type": "code",
   "execution_count": 156,
   "metadata": {},
   "outputs": [
    {
     "name": "stdout",
     "output_type": "stream",
     "text": [
      "['stephen.marquard@uct.ac.za']\n"
     ]
    }
   ],
   "source": [
    "#Fine-Tuning String Extraction_1\n",
    "import re\n",
    "x = 'From stephen.marquard@uct.ac.za Sat Jan 09:14:16 2008'\n",
    "y = re.findall(\"\\S+@\\S+\" ,x) \n",
    "# here \\s is for non blank char\n",
    "print(y)\n"
   ]
  },
  {
   "cell_type": "code",
   "execution_count": 76,
   "metadata": {},
   "outputs": [
    {
     "name": "stdout",
     "output_type": "stream",
     "text": [
      "['stephen.marquard@uct.ac.za']\n"
     ]
    }
   ],
   "source": [
    "#Fine-Tuning String Extraction_2; this is more finely tuned.\n",
    "import re\n",
    "x = 'From stephen.marquard@uct.ac.za Sat Jan 09:14:16 2008'\n",
    "y = re.findall(\"^From (\\S+@\\S+)\" ,x) \n",
    "print(y)\n"
   ]
  },
  {
   "cell_type": "code",
   "execution_count": 143,
   "metadata": {},
   "outputs": [
    {
     "name": "stdout",
     "output_type": "stream",
     "text": [
      "['uct.ac.za']\n"
     ]
    }
   ],
   "source": [
    "#re_extracting host name\n",
    "import re\n",
    "x = 'From stephen.marquard@uct.ac.za Sat Jan 09:14:16 2008'\n",
    "y = re.findall(\"\\@(\\S+)\" ,x) \n",
    "print(y)"
   ]
  },
  {
   "cell_type": "code",
   "execution_count": 137,
   "metadata": {},
   "outputs": [
    {
     "name": "stdout",
     "output_type": "stream",
     "text": [
      "Maximum: 0.9475\n"
     ]
    }
   ],
   "source": [
    "#Spam_Confidence\n",
    "import re\n",
    "hand = open('11.2.1_test.txt')\n",
    "numlist = list()\n",
    "for line in hand:\n",
    "    line = line.rstrip()\n",
    "    stuff = re.findall('^X-DSPAM-Confidence: ([0-9.]+)', line)   \n",
    "    if len(stuff) !=1: continue\n",
    "    num = float(stuff[0])\n",
    "    numlist.append(num)\n",
    "    \n",
    "print('Maximum:', max(numlist))"
   ]
  },
  {
   "cell_type": "code",
   "execution_count": 154,
   "metadata": {},
   "outputs": [
    {
     "name": "stdout",
     "output_type": "stream",
     "text": [
      "['$10.00']\n"
     ]
    }
   ],
   "source": [
    "#Escape Character\n",
    "import re\n",
    "x = 'We have just received $10.00 payment.'\n",
    "y = re.findall('\\$\\S*', x)\n",
    "print(y)"
   ]
  },
  {
   "cell_type": "code",
   "execution_count": null,
   "metadata": {},
   "outputs": [],
   "source": []
  },
  {
   "cell_type": "code",
   "execution_count": null,
   "metadata": {},
   "outputs": [],
   "source": []
  }
 ],
 "metadata": {
  "kernelspec": {
   "display_name": "Python 3",
   "language": "python",
   "name": "python3"
  },
  "language_info": {
   "codemirror_mode": {
    "name": "ipython",
    "version": 3
   },
   "file_extension": ".py",
   "mimetype": "text/x-python",
   "name": "python",
   "nbconvert_exporter": "python",
   "pygments_lexer": "ipython3",
   "version": "3.8.2"
  }
 },
 "nbformat": 4,
 "nbformat_minor": 4
}
