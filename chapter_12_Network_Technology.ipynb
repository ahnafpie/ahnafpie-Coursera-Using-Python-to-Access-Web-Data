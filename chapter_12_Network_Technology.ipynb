{
 "cells": [
  {
   "cell_type": "code",
   "execution_count": 2,
   "metadata": {},
   "outputs": [],
   "source": [
    "# Creating Sockets in python\n",
    "# python has built-in support for TCP sockets\n",
    "\n",
    "import socket  # importing socket library\n",
    "mysock = socket.socket(socket.AF_INET, socket.SOCK_STREAM)  # creating socket\n",
    "mysock.connect(('data.pr4e.org', 80))  # calling a host via port.\n",
    "\n",
    "'''We've onle set up a connection with TCP (transport Protocol), the firt layer of network architecture.\n",
    "lowest part is the TCPIP. Here we made a connection with socket.'''\n"
   ]
  },
  {
   "cell_type": "code",
   "execution_count": 5,
   "metadata": {},
   "outputs": [
    {
     "name": "stdout",
     "output_type": "stream",
     "text": [
      "HTTP/1.1 200 OK\r\n",
      "Date: Fri, 01 May 2020 09:24:59 GMT\r\n",
      "Server: Apache/2.4.18 (Ubuntu)\r\n",
      "Last-Modified: Sat, 13 May 2017 11:22:22 GMT\r\n",
      "ETag: \"a7-54f6609245537\"\r\n",
      "Accept-Ranges: bytes\r\n",
      "Content-Length: 167\r\n",
      "Cache-Control: max-age=0, no-cache, no-store, must-revalidate\r\n",
      "Pragma: no-cache\r\n",
      "Expires: Wed, 11 Jan 1984 05:00:00 GMT\r\n",
      "Connection: close\r\n",
      "Content-Type: text/plain\r\n",
      "\r\n",
      "But soft what light through yonder window breaks\n",
      "It is the east and Juliet is the sun\n",
      "Arise fair sun and kill the envious moon\n",
      "Who is already s\n",
      "ick and pale with grief\n",
      "\n"
     ]
    }
   ],
   "source": [
    "#Request Respond Cycle\n",
    "import socket  # importing socket library\n",
    "mysock = socket.socket(socket.AF_INET, socket.SOCK_STREAM)  # creating socket\n",
    "mysock.connect(('data.pr4e.org', 80))  # calling a host via port.\n",
    "cmd = 'GET http://data.pr4e.org/romeo.txt HTTP/1.0\\r\\n\\r\\n'.encode() # sending get request to the socket\n",
    "mysock.send(cmd)  # receiving data\n",
    "\n",
    "while True:\n",
    "    data = mysock.recv(512)  # data size 512 characters\n",
    "    if (len(data) < 1):  # if we get no data then break\n",
    "        break\n",
    "    print(data.decode())\n",
    "mysock.close()\n"
   ]
  },
  {
   "cell_type": "code",
   "execution_count": null,
   "metadata": {},
   "outputs": [],
   "source": []
  }
 ],
 "metadata": {
  "kernelspec": {
   "display_name": "Python 3",
   "language": "python",
   "name": "python3"
  },
  "language_info": {
   "codemirror_mode": {
    "name": "ipython",
    "version": 3
   },
   "file_extension": ".py",
   "mimetype": "text/x-python",
   "name": "python",
   "nbconvert_exporter": "python",
   "pygments_lexer": "ipython3",
   "version": "3.8.2"
  }
 },
 "nbformat": 4,
 "nbformat_minor": 4
}
